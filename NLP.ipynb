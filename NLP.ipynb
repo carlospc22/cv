{
  "nbformat": 4,
  "nbformat_minor": 0,
  "metadata": {
    "colab": {
      "provenance": []
    },
    "kernelspec": {
      "name": "python3",
      "display_name": "Python 3"
    },
    "language_info": {
      "name": "python"
    }
  },
  "cells": [
    {
      "cell_type": "code",
      "execution_count": null,
      "metadata": {
        "id": "3M4-kPizRk--"
      },
      "outputs": [],
      "source": [
        "import matplotlib.pyplot as plt\n",
        "import nltk\n",
        "import numpy as np\n",
        "import os\n",
        "import pandas as pd\n",
        "import seaborn as sn\n",
        "import torch\n",
        "import zipfile"
      ]
    },
    {
      "cell_type": "code",
      "source": [
        "macmorpho_file_url = 'https://www.vareto.com.br/ftp/igti/tagging/macmorpho-v3.zip'\n",
        "\n",
        "if not os.path.isfile('macmorpho-v3.zip'):\n",
        "    !wget $macmorpho_file_url\n",
        "    macmorpho_file = zipfile.ZipFile('macmorpho-v3.zip', 'r')\n",
        "    macmorpho_file.extractall()"
      ],
      "metadata": {
        "colab": {
          "base_uri": "https://localhost:8080/"
        },
        "id": "SpDB0wnJSItl",
        "outputId": "9ade482a-5ad4-4d11-ac64-cb841be4941e"
      },
      "execution_count": null,
      "outputs": [
        {
          "output_type": "stream",
          "name": "stdout",
          "text": [
            "--2023-05-27 12:57:24--  https://www.vareto.com.br/ftp/igti/tagging/macmorpho-v3.zip\n",
            "Resolving www.vareto.com.br (www.vareto.com.br)... 31.170.167.151, 2a02:4780:1:585:0:142d:d277:1\n",
            "Connecting to www.vareto.com.br (www.vareto.com.br)|31.170.167.151|:443... connected.\n",
            "HTTP request sent, awaiting response... 200 OK\n",
            "Length: 2311287 (2.2M) [application/zip]\n",
            "Saving to: ‘macmorpho-v3.zip’\n",
            "\n",
            "macmorpho-v3.zip    100%[===================>]   2.20M  13.0MB/s    in 0.2s    \n",
            "\n",
            "2023-05-27 12:57:25 (13.0 MB/s) - ‘macmorpho-v3.zip’ saved [2311287/2311287]\n",
            "\n"
          ]
        }
      ]
    },
    {
      "cell_type": "code",
      "source": [
        "def read_subset(file_name):\n",
        "    with open(file_name, 'r', encoding='utf-8') as file_buffer:\n",
        "        sentences = [row for row in file_buffer]\n",
        "    return sentences\n",
        "\n",
        "train_data = read_subset('macmorpho-train.txt')\n",
        "valid_data = read_subset('macmorpho-dev.txt')\n",
        "probe_data = read_subset('macmorpho-test.txt')"
      ],
      "metadata": {
        "id": "-4IXMK3_SQxd"
      },
      "execution_count": null,
      "outputs": []
    },
    {
      "cell_type": "markdown",
      "source": [
        "#1"
      ],
      "metadata": {
        "id": "C-wOQOxmShim"
      }
    },
    {
      "cell_type": "markdown",
      "source": [
        "What is the number of categories (classes) present in each of the sets (training, development and testing)?"
      ],
      "metadata": {
        "id": "Iz9dOcffSZgF"
      }
    },
    {
      "cell_type": "code",
      "source": [
        "def subset_splitter(data_subset, lower=False):\n",
        "    data_tuples = list()\n",
        "    for row in data_subset:\n",
        "        if lower: row = row.lower()\n",
        "        tuples_list = row.split()\n",
        "        tuples_list = [element.split('_') for element in tuples_list]\n",
        "        tokens_list = [token for (token, label) in tuples_list]\n",
        "        labels_list = [label for (token, label) in tuples_list]\n",
        "        data_tuples.append( (tokens_list,labels_list) )\n",
        "    return data_tuples\n",
        "\n",
        "def subset_categorizer(data_tuples):\n",
        "    data_labels = set()\n",
        "    data_tokens = set()\n",
        "    for tokens,labels in data_tuples:\n",
        "        data_labels.update(labels)\n",
        "        data_tokens.update(tokens)\n",
        "    return data_labels, data_tokens\n",
        "        \n",
        "train_tuples = subset_splitter(train_data, lower=True)\n",
        "train_labels, train_tokens = subset_categorizer(train_tuples)\n",
        "\n",
        "valid_tuples = subset_splitter(valid_data, lower=True)\n",
        "valid_labels, valid_tokens = subset_categorizer(valid_tuples)\n",
        "\n",
        "probe_tuples = subset_splitter(probe_data, lower=True)\n",
        "probe_labels, probe_tokens = subset_categorizer(probe_tuples)\n",
        "\n",
        "assert(len(train_labels) == len(valid_labels) == len(probe_labels))\n",
        "print(f'All subsets (training, validation and testing) have {len(train_labels)} categories/classes.')"
      ],
      "metadata": {
        "colab": {
          "base_uri": "https://localhost:8080/"
        },
        "id": "M_QKkaFSSTb9",
        "outputId": "3a03ec62-7ecb-48b9-bb8e-439ad5811acf"
      },
      "execution_count": null,
      "outputs": [
        {
          "output_type": "stream",
          "name": "stdout",
          "text": [
            "All subsets (training, validation and testing) have 26 categories/classes.\n"
          ]
        }
      ]
    },
    {
      "cell_type": "markdown",
      "source": [
        "#2"
      ],
      "metadata": {
        "id": "RFYcBoBYS3kZ"
      }
    },
    {
      "cell_type": "markdown",
      "source": [
        "Which category appeared the most times in the training set?"
      ],
      "metadata": {
        "id": "8ZECnQ6RS4_h"
      }
    },
    {
      "cell_type": "code",
      "source": [
        "def vocab_hist_counter(data_tuples, sort=False):\n",
        "    label_hist = dict()\n",
        "    vocab_hist = dict()\n",
        "    for tokens, labels in data_tuples:\n",
        "        for token in tokens:\n",
        "            if token in vocab_hist: vocab_hist[token] += 1\n",
        "            else: vocab_hist[token] = 1\n",
        "        for label in labels:\n",
        "            if label in label_hist: label_hist[label] += 1\n",
        "            else: label_hist[label] = 1            \n",
        "    if sort: \n",
        "        label_hist = sorted(label_hist.items(), key=lambda tup:tup[1], reverse=True)\n",
        "        vocab_hist = sorted(vocab_hist.items(), key=lambda tup:tup[1], reverse=True)\n",
        "    else:\n",
        "        label_hist = list(label_hist.items()) \n",
        "        vocab_hist = list(vocab_hist.items())\n",
        "    return label_hist, vocab_hist\n",
        "\n",
        "train_label_hist, train_vocab_hist = vocab_hist_counter(train_tuples, sort=True)\n",
        "print(f'The most present category is  {train_label_hist[0][0].upper()} with {train_label_hist[0][1]} appearances.')\n",
        "train_label_hist[:10]"
      ],
      "metadata": {
        "colab": {
          "base_uri": "https://localhost:8080/"
        },
        "id": "lufXTebdSWol",
        "outputId": "d867f0fa-30bc-4318-d23a-2ba01377a48e"
      },
      "execution_count": null,
      "outputs": [
        {
          "output_type": "stream",
          "name": "stdout",
          "text": [
            "The most present category is  N with 156121 appearances.\n"
          ]
        },
        {
          "output_type": "execute_result",
          "data": {
            "text/plain": [
              "[('n', 156121),\n",
              " ('pu', 106234),\n",
              " ('v', 75935),\n",
              " ('nprop', 72030),\n",
              " ('prep', 70759),\n",
              " ('art', 53139),\n",
              " ('prep+art', 45690),\n",
              " ('adj', 32873),\n",
              " ('adv', 18409),\n",
              " ('kc', 17908)]"
            ]
          },
          "metadata": {},
          "execution_count": 6
        }
      ]
    },
    {
      "cell_type": "markdown",
      "source": [
        "#3"
      ],
      "metadata": {
        "id": "8LAkmjn9Uk_u"
      }
    },
    {
      "cell_type": "markdown",
      "source": [
        "What is the vocabulary size in the training set after typography normalization?"
      ],
      "metadata": {
        "id": "0UujBzaSUm3W"
      }
    },
    {
      "cell_type": "code",
      "source": [
        "\n",
        "print(f'The vocabulary has {len(train_tokens)} terms.')\n"
      ],
      "metadata": {
        "colab": {
          "base_uri": "https://localhost:8080/"
        },
        "id": "P5PtmFW2UqgO",
        "outputId": "be5f0840-5862-4770-83e1-791e97f0bfcf"
      },
      "execution_count": null,
      "outputs": [
        {
          "output_type": "stream",
          "name": "stdout",
          "text": [
            "The vocabulary has 47236 terms.\n"
          ]
        }
      ]
    },
    {
      "cell_type": "markdown",
      "source": [
        "#4"
      ],
      "metadata": {
        "id": "dg_Inu02U4WE"
      }
    },
    {
      "cell_type": "markdown",
      "source": [
        "Find the terms that are present in the validation and testing set, but not in the training set.\n",
        "\n",
        "List the first 5 (five) words, in ascending alphabetical order, that are in the development (validation) set and that are NOT in the training set.\n",
        "List the first 5 (five) words, in descending alphabetical order, that are in the test (evaluation) set and that are NOT in the training set."
      ],
      "metadata": {
        "id": "wT5_j7dpU5oo"
      }
    },
    {
      "cell_type": "code",
      "source": [
        "missing_valid = np.setdiff1d(valid_tokens, train_tokens, assume_unique=True)\n",
        "missing_valid = sorted(missing_valid[0], reverse=False)\n",
        "print(f'Missing validation set words: {missing_valid[:10]}')\n",
        "\n",
        "missing_probe = np.setdiff1d(probe_tokens, train_tokens, assume_unique=True)\n",
        "missing_probe = sorted(missing_probe[0], reverse=True)\n",
        "print(f'Missing validation set words: {missing_probe[:10]}')"
      ],
      "metadata": {
        "colab": {
          "base_uri": "https://localhost:8080/"
        },
        "id": "gY1mR5KlU_y5",
        "outputId": "9655b134-a065-4da8-ac52-f5c4b4b3f593"
      },
      "execution_count": null,
      "outputs": [
        {
          "output_type": "stream",
          "name": "stdout",
          "text": [
            "Missing validation set words: ['!', '\"', '%', '&', '&gabbana', \"'\", '(', ')', ',', '-']\n",
            "Missing validation set words: ['útil', 'úteis', 'únicos', 'único', 'únicas', 'única', 'úmidas', 'últimos', 'último', 'últimas']\n"
          ]
        }
      ]
    },
    {
      "cell_type": "markdown",
      "source": [
        "#5"
      ],
      "metadata": {
        "id": "K3ZRsCnYVQ7L"
      }
    },
    {
      "cell_type": "markdown",
      "source": [
        "Create a vocabulary with the entire database, that is, including all existing terms in the training, development and test sets.\n",
        "\n",
        "What is the size of the vocabulary considering the entire database?"
      ],
      "metadata": {
        "id": "umSAbiAfVVMD"
      }
    },
    {
      "cell_type": "code",
      "source": [
        "database_vocab = train_tokens | valid_tokens | probe_tokens\n",
        "print(f'The vocabulary of the entire database has {len(database_vocab)} elements.')"
      ],
      "metadata": {
        "colab": {
          "base_uri": "https://localhost:8080/"
        },
        "id": "Ncsazid6VWD0",
        "outputId": "b95f1753-caae-4fd3-ed71-872e9a33335d"
      },
      "execution_count": null,
      "outputs": [
        {
          "output_type": "stream",
          "name": "stdout",
          "text": [
            "The vocabulary of the entire database has 54235 elements.\n"
          ]
        }
      ]
    },
    {
      "cell_type": "markdown",
      "source": [
        "#6"
      ],
      "metadata": {
        "id": "KuRp2vC7WM6a"
      }
    },
    {
      "cell_type": "markdown",
      "source": [
        "Order all elements (types) present in the vocabulary in alphabetical order in order to create a list of words from the entire database in such a way that the identifier of each element will be its respective index. Do the same thing with the labels (categories/classes).\n"
      ],
      "metadata": {
        "id": "2pEvb3Q1WO3K"
      }
    },
    {
      "cell_type": "code",
      "source": [
        "idx2token = sorted(database_vocab)\n",
        "print(f'The types found at positions 10000 and 20000 are, respectively {idx2token[10000]} and {idx2token[20000]}.')\n",
        "\n",
        "idx2label = sorted(train_labels | valid_labels | probe_labels)\n",
        "print(f'The tags found in positions 10 and 20 are, respectively {idx2label[10].upper()} and {idx2label[20].upper()}.')"
      ],
      "metadata": {
        "colab": {
          "base_uri": "https://localhost:8080/"
        },
        "id": "enUkeIWBWQsj",
        "outputId": "a8c1b462-99e6-479a-e2bb-bdea02d49a69"
      },
      "execution_count": null,
      "outputs": [
        {
          "output_type": "stream",
          "name": "stdout",
          "text": [
            "The types found at positions 10000 and 20000 are, respectively billpay and draft.\n",
            "The tags found in positions 10 and 20 are, respectively NUM and PRO-KS.\n"
          ]
        }
      ]
    },
    {
      "cell_type": "markdown",
      "source": [
        "#7"
      ],
      "metadata": {
        "id": "WLk41217WyHf"
      }
    },
    {
      "cell_type": "markdown",
      "source": [
        "Given the ordered lists established in the previous question, find the inverted index of both. In other words, generate dictionaries where the word corresponds to the key (key) and index is the value (value).\n",
        "\n",
        "What are the indices of the words 'bills' and 'draftaram'?\n",
        "What are the indexes of the 'adv-ks' and 'propess' tags?"
      ],
      "metadata": {
        "id": "gx21LidNWzz3"
      }
    },
    {
      "cell_type": "code",
      "source": [
        "token2idx = {token:idx for (idx,token) in enumerate(idx2token)}\n",
        "print('The indices found for the words bills and draftaram are, respectively {} and {}.'.format(token2idx['bills'], token2idx['draftaram']))\n",
        "\n",
        "label2idx = {token:idx for (idx,token) in enumerate(idx2label)}\n",
        "print('The indices found for the adv-ks and propess tags are, respectively {} and {}.'.format(label2idx['adv-ks'], label2idx['propess']))"
      ],
      "metadata": {
        "colab": {
          "base_uri": "https://localhost:8080/"
        },
        "id": "-b5NleGcW0qX",
        "outputId": "e9818d87-f4ac-4b99-e332-7ab15bae467c"
      },
      "execution_count": null,
      "outputs": [
        {
          "output_type": "stream",
          "name": "stdout",
          "text": [
            "The indices found for the words bills and draftaram are, respectively 10001 and 20001.\n",
            "The indices found for the adv-ks and propess tags are, respectively 2 and 22.\n"
          ]
        }
      ]
    },
    {
      "cell_type": "markdown",
      "source": [
        "#8"
      ],
      "metadata": {
        "id": "IYlNF_rkYeBb"
      }
    },
    {
      "cell_type": "markdown",
      "source": [
        "Given that you have generated the inverted dictionary of types (types) in the previous question, find the vector of integers for the following sequence:"
      ],
      "metadata": {
        "id": "jtbPCH7vYgrr"
      }
    },
    {
      "cell_type": "code",
      "source": [
        "def prepare_sequence(dictionary, sequence):\n",
        "    num_sequence = [dictionary[item] for item in sequence]\n",
        "    return torch.tensor(num_sequence, dtype=torch.long)\n",
        "\n",
        "sentence = ['a', 'imaginação', 'é', 'mais', 'importante', 'que', 'o', 'conhecimento', '.']\n",
        "num_sent = prepare_sequence(token2idx, sentence)\n",
        "num_sent.tolist()"
      ],
      "metadata": {
        "colab": {
          "base_uri": "https://localhost:8080/"
        },
        "id": "GUlKqQAIYhev",
        "outputId": "8af2cb68-1cb1-42c1-8466-d1538ed13b71"
      },
      "execution_count": null,
      "outputs": [
        {
          "output_type": "execute_result",
          "data": {
            "text/plain": [
              "[3975, 28725, 54086, 33599, 28931, 42970, 37433, 14798, 49]"
            ]
          },
          "metadata": {},
          "execution_count": 13
        }
      ]
    },
    {
      "cell_type": "markdown",
      "source": [
        "#9"
      ],
      "metadata": {
        "id": "zyOF9k3fYnKE"
      }
    },
    {
      "cell_type": "markdown",
      "source": [
        "Given that you have generated the inverted dictionary of types (types) in the previous question, find the vector of integers for the following sequence:"
      ],
      "metadata": {
        "id": "zzjVbzNnY_7n"
      }
    },
    {
      "cell_type": "code",
      "source": [
        "tags = ['art', 'n', 'pcp', 'v', 'prep', 'prep', 'prep+art', 'n', 'prep', 'nprop', 'nprop', 'pu']\n",
        "num_sent = prepare_sequence(label2idx, tags)\n",
        "num_sent.tolist()"
      ],
      "metadata": {
        "colab": {
          "base_uri": "https://localhost:8080/"
        },
        "id": "j4i0V2g-ZBGA",
        "outputId": "00cf7328-5df9-4f06-d5ac-007b5aa7f22a"
      },
      "execution_count": null,
      "outputs": [
        {
          "output_type": "execute_result",
          "data": {
            "text/plain": [
              "[3, 8, 11, 25, 13, 13, 15, 8, 13, 9, 9, 24]"
            ]
          },
          "metadata": {},
          "execution_count": 14
        }
      ]
    },
    {
      "cell_type": "markdown",
      "source": [
        "## Definição da Rede Neural\n"
      ],
      "metadata": {
        "id": "xSti6B83Mjx9"
      }
    },
    {
      "cell_type": "markdown",
      "source": [
        "The following code is for making a very simple LSTM model in PyTorch. The LSTMTagger class subclasses PyTorch's torch.nn.Module class so that it can get all the functionality of the base class. If this is confusing for you, don't worry now, just try it and remember it as a convention in object-oriented languages."
      ],
      "metadata": {
        "id": "g0ruIAUkMi39"
      }
    },
    {
      "cell_type": "code",
      "source": [
        "class LSTMTagger(torch.nn.Module):\n",
        "    def __init__(self, embedding_dim, hidden_dim, vocab_size, target_size):\n",
        "        # invoking base class constructor\n",
        "        super(LSTMTagger, self).__init__()\n",
        "        # word_embeddings transform one-hot arrays to a compact representation\n",
        "        self.word_embeddings = torch.nn.Embedding(vocab_size, embedding_dim)\n",
        "        # The lstm takes word embeddings as input and generates hidden states of size hidden_dim.\n",
        "        self.lstm = torch.nn.LSTM(embedding_dim, hidden_dim)\n",
        "        # hidden2tag is a linear layer that maps from hidden space to tag space.\n",
        "        self.hidden2tag = torch.nn.Linear(hidden_dim, target_size)\n",
        "\n",
        "    def forward(self, sentence):\n",
        "        embeds = self.word_embeddings(sentence)\n",
        "        lstm_out, _ = self.lstm(embeds.view(len(sentence), 1, -1))\n",
        "        tag_space = self.hidden2tag(lstm_out.view(len(sentence), -1))\n",
        "        tag_scores = torch.nn.functional.log_softmax(tag_space, dim=1)\n",
        "        return tag_scores"
      ],
      "metadata": {
        "id": "JlcEleXzZ0jG"
      },
      "execution_count": null,
      "outputs": []
    },
    {
      "cell_type": "markdown",
      "source": [
        "Above, we established our class that defines the recurrent neural model that will be used: Long short-term memory (LSTM). While in the __init__() constructor we define the LSTMTagger class components, the forward() method specifies how these components relate to each other.\n",
        "\n",
        "You must employ the LSTMTagger class, provided above, for the rest of this work."
      ],
      "metadata": {
        "id": "kdbU6WueM2_c"
      }
    },
    {
      "cell_type": "markdown",
      "source": [
        "## Definition of Hyperparameters"
      ],
      "metadata": {
        "id": "3yT6un-eND8b"
      }
    },
    {
      "cell_type": "markdown",
      "source": [
        "You must stipulate which values ​​must be provided for VOCAB_SIZE and TARGET_SIZE. However, for others, you must employ the hyperparameters provided above for the rest of this work."
      ],
      "metadata": {
        "id": "1GWeM98_M_oa"
      }
    },
    {
      "cell_type": "code",
      "source": [
        "EMBEDDING_DIM = 128\n",
        "HIDDEN_DIM    = 64\n",
        "VOCAB_SIZE    = len(token2idx.keys())\n",
        "TARGET_SIZE   = len(label2idx.keys())\n",
        "LEARNING_RATE = 0.05\n",
        "NUM_EPOCHS    = 5\n",
        "\n",
        "# Initialize the model with all necessary parameters\n",
        "model = LSTMTagger(EMBEDDING_DIM, HIDDEN_DIM, VOCAB_SIZE, TARGET_SIZE)\n",
        "\n",
        "# Empregamos a função de erro denominada Negative Log Likelihood loss (NLLLoss)\n",
        "loss_function = torch.nn.NLLLoss()\n",
        "\n",
        "# We employ the Stochastic Gradient Descent (SGD) optimization algorithm\n",
        "optimizer = torch.optim.SGD(model.parameters(), lr=LEARNING_RATE)"
      ],
      "metadata": {
        "id": "Wk-6iufZafNq"
      },
      "execution_count": null,
      "outputs": []
    },
    {
      "cell_type": "markdown",
      "source": [
        "You must stipulate which values ​​must be provided for VOCAB_SIZE and TARGET_SIZE. However, for others, you must employ the hyperparameters provided above for the rest of this work."
      ],
      "metadata": {
        "id": "nF2zn44QNKG7"
      }
    },
    {
      "cell_type": "markdown",
      "source": [
        "#10"
      ],
      "metadata": {
        "id": "pikqCq6fNSmz"
      }
    },
    {
      "cell_type": "markdown",
      "source": [
        "The prepare_sequence(dictionary, sequence) function takes the generated converter dictionary and a list of strings, both for word and label conversion, and returns a numerical equivalent list of type torch.Tensor."
      ],
      "metadata": {
        "id": "oIT3tN47NUNc"
      }
    },
    {
      "cell_type": "code",
      "source": [
        "def prepare_sequence(dictionary, sequence):\n",
        "    num_sequence = [dictionary[item] for item in sequence]\n",
        "    return torch.tensor(num_sequence, dtype=torch.long)"
      ],
      "metadata": {
        "id": "OGdwvKENaxNN"
      },
      "execution_count": null,
      "outputs": []
    },
    {
      "cell_type": "markdown",
      "source": [
        "The snippet below is a good tip for implementing training of your LSTM network. You should pay attention to the structure of the variables training_data (training set), num_sentence (numeric representation of words), num_tags (numeric representation of tags)"
      ],
      "metadata": {
        "id": "SJnxberBNZLU"
      }
    },
    {
      "cell_type": "code",
      "source": [
        "device = torch.device(\"cuda:0\" if torch.cuda.is_available() else \"cpu\")\n",
        "print('Hardware available: {}'.format(device))\n",
        "\n",
        "model.to(device)"
      ],
      "metadata": {
        "colab": {
          "base_uri": "https://localhost:8080/"
        },
        "id": "Wj73pYgAw_UJ",
        "outputId": "113e85fa-552d-4a64-b339-93a9e85d04c0"
      },
      "execution_count": null,
      "outputs": [
        {
          "output_type": "stream",
          "name": "stdout",
          "text": [
            "Hardware available: cpu\n"
          ]
        },
        {
          "output_type": "execute_result",
          "data": {
            "text/plain": [
              "LSTMTagger(\n",
              "  (word_embeddings): Embedding(54235, 128)\n",
              "  (lstm): LSTM(128, 64)\n",
              "  (hidden2tag): Linear(in_features=64, out_features=26, bias=True)\n",
              ")"
            ]
          },
          "metadata": {},
          "execution_count": 26
        }
      ]
    },
    {
      "cell_type": "code",
      "source": [
        "print(\"TRAINING STAGE\")\n",
        "for epoch in range(NUM_EPOCHS):\n",
        "    print('Current EPOCH: {}/{}'.format(epoch+1, NUM_EPOCHS), end='\\t')\n",
        "    for tokens, labels in train_tuples:\n",
        "        # Reset gradients so they compute independently\n",
        "        model.zero_grad()\n",
        "        #  Transform word vector into numerical vector\n",
        "        num_tokens = prepare_sequence(token2idx, tokens).to(device)\n",
        "        #  Transform label vector to numerical vector\n",
        "        num_labels = prepare_sequence(label2idx, labels).to(device)\n",
        "        # Transferring data over the network\n",
        "        pred_labels = model(num_tokens)\n",
        "        # Find error and optimize recurrent network parameters\n",
        "        loss = loss_function(pred_labels, num_labels)\n",
        "        loss.backward()\n",
        "        optimizer.step()\n",
        "    # Prevent gradient from updating during validation\n",
        "    with torch.no_grad():\n",
        "        record = list()\n",
        "        for tokens, labels in valid_tuples:\n",
        "            # Transform word vector into numerical vector \n",
        "            num_tokens = prepare_sequence(token2idx, tokens).to(device)\n",
        "            # Transform label vector to numerical vector \n",
        "            num_labels = prepare_sequence(label2idx, labels).to(device)\n",
        "            # Transferring data over the network\n",
        "            pred_labels = model(num_tokens)\n",
        "            # Find most likely tag for each word\n",
        "            _, max_tags = torch.max(pred_labels, 1)\n",
        "            # Compute how many words are sorted correctly\n",
        "            bool_check = [p_label==y_label for (p_label,y_label) in zip(max_tags, num_labels)]\n",
        "            # Add Calculation to Registry Variable\n",
        "            record.extend(bool_check)\n",
        "    print('Validation Accuracy: {}'.format(sum(record)/len(record)))"
      ],
      "metadata": {
        "colab": {
          "base_uri": "https://localhost:8080/"
        },
        "id": "7HkOWiALbqDj",
        "outputId": "cd072370-c47e-43d2-dd4c-f74fc1fd2ec0"
      },
      "execution_count": null,
      "outputs": [
        {
          "output_type": "stream",
          "name": "stdout",
          "text": [
            "TRAINING STAGE\n",
            "Current EPOCH: 1/5\tValidation Accuracy: 0.8307656645774841\n",
            "Current EPOCH: 2/5\tValidation Accuracy: 0.8508011698722839\n",
            "Current EPOCH: 3/5\tValidation Accuracy: 0.8621692061424255\n",
            "Current EPOCH: 4/5\tValidation Accuracy: 0.8695763945579529\n",
            "Current EPOCH: 5/5\tValidation Accuracy: 0.8748489022254944\n"
          ]
        }
      ]
    },
    {
      "cell_type": "markdown",
      "source": [
        "# 11"
      ],
      "metadata": {
        "id": "nYNpiGOuNjVv"
      }
    },
    {
      "cell_type": "markdown",
      "source": [
        "the code that computes the training and checks the accuracy of the recurrent neural network on the validation data (development) at the end of each epoch was made available. Now, implement its evaluation on the test set remembering to use the torch.no_grad() command.\n",
        "\n",
        "In what range is the accuracy found in the test set (evaluation)?"
      ],
      "metadata": {
        "id": "Itis28KjNk-G"
      }
    },
    {
      "cell_type": "code",
      "source": [
        "# Impedir que gradiente seja atualizado durante \n",
        "y_true = list()\n",
        "y_pred = list()\n",
        "with torch.no_grad():\n",
        "    record = list()\n",
        "    for tokens, labels in probe_tuples:\n",
        "        # Transformar vetor de palavras em vetor numérico (semelhante PERGUNTA-08)\n",
        "        num_tokens = prepare_sequence(token2idx, tokens).to(device)\n",
        "        # Transformar vetor de etiquetas em vetor numérico (semelhante PERGUNTA-09)\n",
        "        num_labels = prepare_sequence(label2idx, labels).to(device)\n",
        "        # Fazer a passagem dos dados pela rede (forward pass)\n",
        "        pred_labels = model(num_tokens)\n",
        "        # Encontrar etiqueta com maior probabilidade para cada palavra\n",
        "        _, max_labels = torch.max(pred_labels, 1)\n",
        "        # Computar quantas palavras são classificadas de forma correta\n",
        "        bool_check = [p_label==y_label for (p_label,y_label) in zip(max_labels, num_labels)]\n",
        "        # Adicionar cálculo à variável de registro\n",
        "        y_true.extend(num_labels)\n",
        "        y_pred.extend(max_labels)\n",
        "        record.extend(bool_check)\n",
        "print('Evaluation Accuracy: {}'.format(sum(record)/len(record)))"
      ],
      "metadata": {
        "colab": {
          "base_uri": "https://localhost:8080/"
        },
        "id": "-G6IIH3mx20w",
        "outputId": "086cb7f8-04cc-4524-9618-c20f4c6d59e1"
      },
      "execution_count": null,
      "outputs": [
        {
          "output_type": "stream",
          "name": "stdout",
          "text": [
            "Evaluation Accuracy: 0.859961986541748\n"
          ]
        }
      ]
    },
    {
      "cell_type": "markdown",
      "source": [
        "# 12"
      ],
      "metadata": {
        "id": "o23pt_zONsCn"
      }
    },
    {
      "cell_type": "markdown",
      "source": [
        "Generate a confusion matrix with the data available for testing. It can be created using the confusion_matrix method from the Sklearn library.\n",
        "\n",
        "Which labels had the highest incidence of error?"
      ],
      "metadata": {
        "id": "pzhr5K8zPh5t"
      }
    },
    {
      "cell_type": "code",
      "source": [
        "from sklearn.metrics import confusion_matrix\n",
        "\n",
        "tags = list(label2idx.keys())\n",
        "y_true = [idx2label[idx] for idx in y_true]\n",
        "y_pred = [idx2label[idx] for idx in y_pred]\n",
        "\n",
        "conf_matrix = confusion_matrix(y_true, y_pred, labels=tags)"
      ],
      "metadata": {
        "id": "u7Qx88bIyMF7"
      },
      "execution_count": null,
      "outputs": []
    },
    {
      "cell_type": "code",
      "source": [
        "plt.figure(figsize=(20,14))\n",
        "df_conf_matrix = pd.DataFrame(conf_matrix, tags, tags)\n",
        "df_conf_matrix_norm = df_conf_matrix.apply(lambda x: round(100*x/sum(x)), axis = 1)\n",
        "sn.set(font_scale=1.2)\n",
        "sn.heatmap(df_conf_matrix_norm, annot=True, annot_kws={\"size\": 12})\n",
        "plt.show()"
      ],
      "metadata": {
        "colab": {
          "base_uri": "https://localhost:8080/",
          "height": 1000
        },
        "id": "4TK4pbr5yN7U",
        "outputId": "31c38eeb-1680-428d-87fa-7b21057700db"
      },
      "execution_count": null,
      "outputs": [
        {
          "output_type": "display_data",
          "data": {
            "text/plain": [
              "<Figure size 2000x1400 with 2 Axes>"
            ],
            "image/png": "[encoded data removed]"
          },
          "metadata": {}
        }
      ]
    },
    {
      "cell_type": "code",
      "source": [
        "diagonal = pd.DataFrame(np.diag(df_conf_matrix_norm), index=[df_conf_matrix_norm.index, df_conf_matrix_norm.columns])\n",
        "diagonal"
      ],
      "metadata": {
        "colab": {
          "base_uri": "https://localhost:8080/",
          "height": 864
        },
        "id": "qdD-CWf2yRss",
        "outputId": "e7f52cfa-d4bc-42d4-b753-c192200b3fda"
      },
      "execution_count": null,
      "outputs": [
        {
          "output_type": "execute_result",
          "data": {
            "text/plain": [
              "                               0\n",
              "adj          adj            73.0\n",
              "adv          adv            81.0\n",
              "adv-ks       adv-ks         46.0\n",
              "art          art            98.0\n",
              "cur          cur            99.0\n",
              "in           in              1.0\n",
              "kc           kc             96.0\n",
              "ks           ks             62.0\n",
              "n            n              90.0\n",
              "nprop        nprop          56.0\n",
              "num          num            64.0\n",
              "pcp          pcp            52.0\n",
              "pden         pden           77.0\n",
              "prep         prep           93.0\n",
              "prep+adv     prep+adv       52.0\n",
              "prep+art     prep+art       99.0\n",
              "prep+pro-ks  prep+pro-ks     0.0\n",
              "prep+proadj  prep+proadj    94.0\n",
              "prep+propess prep+propess   82.0\n",
              "prep+prosub  prep+prosub    28.0\n",
              "pro-ks       pro-ks         90.0\n",
              "proadj       proadj         89.0\n",
              "propess      propess        91.0\n",
              "prosub       prosub         42.0\n",
              "pu           pu            100.0\n",
              "v            v              85.0"
            ],
            "text/html": [
              "\n",
              "  <div id=\"df-ad10020a-4d2f-490b-9d5a-2dd773310d47\">\n",
              "    <div class=\"colab-df-container\">\n",
              "      <div>\n",
              "<style scoped>\n",
              "    .dataframe tbody tr th:only-of-type {\n",
              "        vertical-align: middle;\n",
              "    }\n",
              "\n",
              "    .dataframe tbody tr th {\n",
              "        vertical-align: top;\n",
              "    }\n",
              "\n",
              "    .dataframe thead th {\n",
              "        text-align: right;\n",
              "    }\n",
              "</style>\n",
              "<table border=\"1\" class=\"dataframe\">\n",
              "  <thead>\n",
              "    <tr style=\"text-align: right;\">\n",
              "      <th></th>\n",
              "      <th></th>\n",
              "      <th>0</th>\n",
              "    </tr>\n",
              "  </thead>\n",
              "  <tbody>\n",
              "    <tr>\n",
              "      <th>adj</th>\n",
              "      <th>adj</th>\n",
              "      <td>73.0</td>\n",
              "    </tr>\n",
              "    <tr>\n",
              "      <th>adv</th>\n",
              "      <th>adv</th>\n",
              "      <td>81.0</td>\n",
              "    </tr>\n",
              "    <tr>\n",
              "      <th>adv-ks</th>\n",
              "      <th>adv-ks</th>\n",
              "      <td>46.0</td>\n",
              "    </tr>\n",
              "    <tr>\n",
              "      <th>art</th>\n",
              "      <th>art</th>\n",
              "      <td>98.0</td>\n",
              "    </tr>\n",
              "    <tr>\n",
              "      <th>cur</th>\n",
              "      <th>cur</th>\n",
              "      <td>99.0</td>\n",
              "    </tr>\n",
              "    <tr>\n",
              "      <th>in</th>\n",
              "      <th>in</th>\n",
              "      <td>1.0</td>\n",
              "    </tr>\n",
              "    <tr>\n",
              "      <th>kc</th>\n",
              "      <th>kc</th>\n",
              "      <td>96.0</td>\n",
              "    </tr>\n",
              "    <tr>\n",
              "      <th>ks</th>\n",
              "      <th>ks</th>\n",
              "      <td>62.0</td>\n",
              "    </tr>\n",
              "    <tr>\n",
              "      <th>n</th>\n",
              "      <th>n</th>\n",
              "      <td>90.0</td>\n",
              "    </tr>\n",
              "    <tr>\n",
              "      <th>nprop</th>\n",
              "      <th>nprop</th>\n",
              "      <td>56.0</td>\n",
              "    </tr>\n",
              "    <tr>\n",
              "      <th>num</th>\n",
              "      <th>num</th>\n",
              "      <td>64.0</td>\n",
              "    </tr>\n",
              "    <tr>\n",
              "      <th>pcp</th>\n",
              "      <th>pcp</th>\n",
              "      <td>52.0</td>\n",
              "    </tr>\n",
              "    <tr>\n",
              "      <th>pden</th>\n",
              "      <th>pden</th>\n",
              "      <td>77.0</td>\n",
              "    </tr>\n",
              "    <tr>\n",
              "      <th>prep</th>\n",
              "      <th>prep</th>\n",
              "      <td>93.0</td>\n",
              "    </tr>\n",
              "    <tr>\n",
              "      <th>prep+adv</th>\n",
              "      <th>prep+adv</th>\n",
              "      <td>52.0</td>\n",
              "    </tr>\n",
              "    <tr>\n",
              "      <th>prep+art</th>\n",
              "      <th>prep+art</th>\n",
              "      <td>99.0</td>\n",
              "    </tr>\n",
              "    <tr>\n",
              "      <th>prep+pro-ks</th>\n",
              "      <th>prep+pro-ks</th>\n",
              "      <td>0.0</td>\n",
              "    </tr>\n",
              "    <tr>\n",
              "      <th>prep+proadj</th>\n",
              "      <th>prep+proadj</th>\n",
              "      <td>94.0</td>\n",
              "    </tr>\n",
              "    <tr>\n",
              "      <th>prep+propess</th>\n",
              "      <th>prep+propess</th>\n",
              "      <td>82.0</td>\n",
              "    </tr>\n",
              "    <tr>\n",
              "      <th>prep+prosub</th>\n",
              "      <th>prep+prosub</th>\n",
              "      <td>28.0</td>\n",
              "    </tr>\n",
              "    <tr>\n",
              "      <th>pro-ks</th>\n",
              "      <th>pro-ks</th>\n",
              "      <td>90.0</td>\n",
              "    </tr>\n",
              "    <tr>\n",
              "      <th>proadj</th>\n",
              "      <th>proadj</th>\n",
              "      <td>89.0</td>\n",
              "    </tr>\n",
              "    <tr>\n",
              "      <th>propess</th>\n",
              "      <th>propess</th>\n",
              "      <td>91.0</td>\n",
              "    </tr>\n",
              "    <tr>\n",
              "      <th>prosub</th>\n",
              "      <th>prosub</th>\n",
              "      <td>42.0</td>\n",
              "    </tr>\n",
              "    <tr>\n",
              "      <th>pu</th>\n",
              "      <th>pu</th>\n",
              "      <td>100.0</td>\n",
              "    </tr>\n",
              "    <tr>\n",
              "      <th>v</th>\n",
              "      <th>v</th>\n",
              "      <td>85.0</td>\n",
              "    </tr>\n",
              "  </tbody>\n",
              "</table>\n",
              "</div>\n",
              "      <button class=\"colab-df-convert\" onclick=\"convertToInteractive('df-ad10020a-4d2f-490b-9d5a-2dd773310d47')\"\n",
              "              title=\"Convert this dataframe to an interactive table.\"\n",
              "              style=\"display:none;\">\n",
              "        \n",
              "  <svg xmlns=\"http://www.w3.org/2000/svg\" height=\"24px\"viewBox=\"0 0 24 24\"\n",
              "       width=\"24px\">\n",
              "    <path d=\"M0 0h24v24H0V0z\" fill=\"none\"/>\n",
              "    <path d=\"M18.56 5.44l.94 2.06.94-2.06 2.06-.94-2.06-.94-.94-2.06-.94 2.06-2.06.94zm-11 1L8.5 8.5l.94-2.06 2.06-.94-2.06-.94L8.5 2.5l-.94 2.06-2.06.94zm10 10l.94 2.06.94-2.06 2.06-.94-2.06-.94-.94-2.06-.94 2.06-2.06.94z\"/><path d=\"M17.41 7.96l-1.37-1.37c-.4-.4-.92-.59-1.43-.59-.52 0-1.04.2-1.43.59L10.3 9.45l-7.72 7.72c-.78.78-.78 2.05 0 2.83L4 21.41c.39.39.9.59 1.41.59.51 0 1.02-.2 1.41-.59l7.78-7.78 2.81-2.81c.8-.78.8-2.07 0-2.86zM5.41 20L4 18.59l7.72-7.72 1.47 1.35L5.41 20z\"/>\n",
              "  </svg>\n",
              "      </button>\n",
              "      \n",
              "  <style>\n",
              "    .colab-df-container {\n",
              "      display:flex;\n",
              "      flex-wrap:wrap;\n",
              "      gap: 12px;\n",
              "    }\n",
              "\n",
              "    .colab-df-convert {\n",
              "      background-color: #E8F0FE;\n",
              "      border: none;\n",
              "      border-radius: 50%;\n",
              "      cursor: pointer;\n",
              "      display: none;\n",
              "      fill: #1967D2;\n",
              "      height: 32px;\n",
              "      padding: 0 0 0 0;\n",
              "      width: 32px;\n",
              "    }\n",
              "\n",
              "    .colab-df-convert:hover {\n",
              "      background-color: #E2EBFA;\n",
              "      box-shadow: 0px 1px 2px rgba(60, 64, 67, 0.3), 0px 1px 3px 1px rgba(60, 64, 67, 0.15);\n",
              "      fill: #174EA6;\n",
              "    }\n",
              "\n",
              "    [theme=dark] .colab-df-convert {\n",
              "      background-color: #3B4455;\n",
              "      fill: #D2E3FC;\n",
              "    }\n",
              "\n",
              "    [theme=dark] .colab-df-convert:hover {\n",
              "      background-color: #434B5C;\n",
              "      box-shadow: 0px 1px 3px 1px rgba(0, 0, 0, 0.15);\n",
              "      filter: drop-shadow(0px 1px 2px rgba(0, 0, 0, 0.3));\n",
              "      fill: #FFFFFF;\n",
              "    }\n",
              "  </style>\n",
              "\n",
              "      <script>\n",
              "        const buttonEl =\n",
              "          document.querySelector('#df-ad10020a-4d2f-490b-9d5a-2dd773310d47 button.colab-df-convert');\n",
              "        buttonEl.style.display =\n",
              "          google.colab.kernel.accessAllowed ? 'block' : 'none';\n",
              "\n",
              "        async function convertToInteractive(key) {\n",
              "          const element = document.querySelector('#df-ad10020a-4d2f-490b-9d5a-2dd773310d47');\n",
              "          const dataTable =\n",
              "            await google.colab.kernel.invokeFunction('convertToInteractive',\n",
              "                                                     [key], {});\n",
              "          if (!dataTable) return;\n",
              "\n",
              "          const docLinkHtml = 'Like what you see? Visit the ' +\n",
              "            '<a target=\"_blank\" href=https://colab.research.google.com/notebooks/data_table.ipynb>data table notebook</a>'\n",
              "            + ' to learn more about interactive tables.';\n",
              "          element.innerHTML = '';\n",
              "          dataTable['output_type'] = 'display_data';\n",
              "          await google.colab.output.renderOutput(dataTable, element);\n",
              "          const docLink = document.createElement('div');\n",
              "          docLink.innerHTML = docLinkHtml;\n",
              "          element.appendChild(docLink);\n",
              "        }\n",
              "      </script>\n",
              "    </div>\n",
              "  </div>\n",
              "  "
            ]
          },
          "metadata": {},
          "execution_count": 31
        }
      ]
    },
    {
      "cell_type": "code",
      "source": [
        "res_tuples = [(tag, pred[0]) for (tag, pred) in zip(tags, diagonal.values.tolist())]\n",
        "sorted(res_tuples, key=lambda tup:tup[1])"
      ],
      "metadata": {
        "colab": {
          "base_uri": "https://localhost:8080/"
        },
        "id": "558gKAloyTbU",
        "outputId": "0c3ce6c3-4f41-4594-cf3a-6a16752588d9"
      },
      "execution_count": null,
      "outputs": [
        {
          "output_type": "execute_result",
          "data": {
            "text/plain": [
              "[('prep+pro-ks', 0.0),\n",
              " ('in', 1.0),\n",
              " ('prep+prosub', 28.0),\n",
              " ('prosub', 42.0),\n",
              " ('adv-ks', 46.0),\n",
              " ('pcp', 52.0),\n",
              " ('prep+adv', 52.0),\n",
              " ('nprop', 56.0),\n",
              " ('ks', 62.0),\n",
              " ('num', 64.0),\n",
              " ('adj', 73.0),\n",
              " ('pden', 77.0),\n",
              " ('adv', 81.0),\n",
              " ('prep+propess', 82.0),\n",
              " ('v', 85.0),\n",
              " ('proadj', 89.0),\n",
              " ('n', 90.0),\n",
              " ('pro-ks', 90.0),\n",
              " ('propess', 91.0),\n",
              " ('prep', 93.0),\n",
              " ('prep+proadj', 94.0),\n",
              " ('kc', 96.0),\n",
              " ('art', 98.0),\n",
              " ('cur', 99.0),\n",
              " ('prep+art', 99.0),\n",
              " ('pu', 100.0)]"
            ]
          },
          "metadata": {},
          "execution_count": 32
        }
      ]
    }
  ]
}